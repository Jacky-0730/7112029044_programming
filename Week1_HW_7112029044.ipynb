{
  "nbformat": 4,
  "nbformat_minor": 0,
  "metadata": {
    "colab": {
      "provenance": []
    },
    "kernelspec": {
      "name": "python3",
      "display_name": "Python 3"
    },
    "language_info": {
      "name": "python"
    }
  },
  "cells": [
    {
      "cell_type": "code",
      "execution_count": 4,
      "metadata": {
        "colab": {
          "base_uri": "https://localhost:8080/"
        },
        "id": "bTgOGBvyc0Ur",
        "outputId": "6614968c-7a5c-4a32-9942-6d15e8948016"
      },
      "outputs": [
        {
          "output_type": "stream",
          "name": "stdout",
          "text": [
            "請輸入你的身高(公尺)1.77\n",
            "請輸入你的體重(公斤)66\n",
            "您的BMI是:21.07\n"
          ]
        }
      ],
      "source": [
        "height = float(input(\"請輸入你的身高(公尺)\"))\n",
        "weight = float(input(\"請輸入你的體重(公斤)\"))\n",
        "bmi = weight/(height**2)\n",
        "print(f\"您的BMI是:{bmi:.2f}\")"
      ]
    }
  ]
}